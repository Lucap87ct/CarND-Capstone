{
 "cells": [
  {
   "cell_type": "markdown",
   "metadata": {},
   "source": [
    "# Self-Driving Car Engineer Nanodegree\n",
    "\n",
    "## Capstone project\n",
    "\n",
    "### Project8: Traffic Light Classification"
   ]
  },
  {
   "cell_type": "code",
   "execution_count": 31,
   "metadata": {},
   "outputs": [
    {
     "data": {
      "text/plain": [
       "'1.14.0'"
      ]
     },
     "execution_count": 31,
     "metadata": {},
     "output_type": "execute_result"
    }
   ],
   "source": [
    "import os \n",
    "import cv2 \n",
    "import numpy as np \n",
    "import tensorflow as tf \n",
    "import matplotlib.pyplot as plt\n",
    "import sys \n",
    "import glob\n",
    "import yaml\n",
    "\n",
    "from sklearn.utils import shuffle\n",
    "from sklearn.model_selection import train_test_split \n",
    "\n",
    "from keras.models import Sequential\n",
    "from keras.layers import Flatten, Dense, Lambda\n",
    "from keras.layers.core import Dense, Activation, Flatten, Dropout\n",
    "\n",
    "from keras.layers import Cropping2D\n",
    "from keras.layers.convolutional import Conv2D\n",
    "from keras.layers.pooling import MaxPooling2D\n",
    "from keras import backend as K\n",
    "\n",
    "tf.__version__"
   ]
  },
  {
   "cell_type": "code",
   "execution_count": 2,
   "metadata": {},
   "outputs": [],
   "source": [
    "# Grab test images\n",
    "img_dir = \"classification_images\" # Enter Directory of all images \n",
    "data_path = os.path.join(img_dir,'*g')\n",
    "images = glob.glob(data_path)\n",
    "classification_images = []\n",
    "test_images = []\n",
    "\n",
    "# Create the list of images to be classified\n",
    "for image in images:\n",
    "    classification_images.append(cv2.imread(image))\n",
    "    \n",
    "# Squeeze them in 1-D and convert them for the model    \n",
    "for img in classification_images:\n",
    "    img = cv2.cvtColor(img, cv2.COLOR_RGB2BGR)\n",
    "    test_images.append(np.expand_dims(img, axis=0))\n",
    "\n",
    "# Model path\n",
    "model_path = \"faster_rcnn_inception_v2_coco_2018_01_28/frozen_inference_graph.pb\"\n",
    "\n",
    "# Load the Tensorflow model into memory. \n",
    "detection_graph = tf.Graph() \n",
    "with detection_graph.as_default(): \n",
    "    od_graph_def = tf.GraphDef() \n",
    "    with tf.gfile.GFile(model_path, 'rb') as fid: \n",
    "        serialized_graph = fid.read() \n",
    "        od_graph_def.ParseFromString(serialized_graph) \n",
    "        tf.import_graph_def(od_graph_def, name ='') \n",
    "  \n",
    "    sess = tf.Session(graph = detection_graph) "
   ]
  },
  {
   "cell_type": "code",
   "execution_count": 3,
   "metadata": {},
   "outputs": [],
   "source": [
    "# Define input and output tensors (i.e. data) for the object detection classifier \n",
    "  \n",
    "# Input tensor is the image \n",
    "image_tensor = detection_graph.get_tensor_by_name('image_tensor:0') \n",
    "  \n",
    "# Output tensors are the detection boxes, scores, and classes \n",
    "# Each box represents a part of the image where a particular object was detected \n",
    "detection_boxes = detection_graph.get_tensor_by_name('detection_boxes:0') \n",
    "  \n",
    "# Each score represents level of confidence for each of the objects. \n",
    "# The score is shown on the result image, together with the class label. \n",
    "detection_scores = detection_graph.get_tensor_by_name('detection_scores:0') \n",
    "detection_classes = detection_graph.get_tensor_by_name('detection_classes:0') \n",
    "  \n",
    "# Number of objects detected \n",
    "num_detections = detection_graph.get_tensor_by_name('num_detections:0') "
   ]
  },
  {
   "cell_type": "code",
   "execution_count": 4,
   "metadata": {},
   "outputs": [],
   "source": [
    "# Perform the actual detection by running the model with the image as input \n",
    "images_with_boxes = []\n",
    "\n",
    "# Detect traffic light boxes, scores for detection and classes\n",
    "def detection(expand_image): \n",
    "    (boxes, scores, classes, num) = sess.run( \n",
    "        [detection_boxes, detection_scores, detection_classes, num_detections], \n",
    "        feed_dict ={image_tensor: expand_image})\n",
    "    return boxes, scores, classes\n",
    "\n",
    "# Draw boxes on image\n",
    "def draw_boxes(image, boxes, scores, classes):    \n",
    "    for parameter in zip(boxes[0], classes[0], scores[0]):\n",
    "         if parameter[1] == 10 and parameter[2] >= .5:\n",
    "            box = parameter[0]\n",
    "            x_min = int(box[0] * image.shape[0])\n",
    "            x_max = int(box[2] * image.shape[0])\n",
    "            y_min = int(box[1] * image.shape[1])\n",
    "            y_max = int(box[3] * image.shape[1])\n",
    "            image = cv2.rectangle(image, (y_min,x_min),(y_max,x_max), (0,255,0), 5)\n",
    "    images_with_boxes = cv2.cvtColor(image, cv2.COLOR_BGR2RGB)\n",
    "    return image"
   ]
  },
  {
   "cell_type": "code",
   "execution_count": 5,
   "metadata": {},
   "outputs": [],
   "source": [
    "boxes = []\n",
    "scores = []\n",
    "classes = []\n",
    "\n",
    "for i in range (len(classification_images)):\n",
    "    boxes, scores, classes = detection(test_images[i])\n",
    "    images_with_boxes.append(draw_boxes(classification_images[i], boxes, scores, classes))"
   ]
  },
  {
   "cell_type": "code",
   "execution_count": 7,
   "metadata": {},
   "outputs": [],
   "source": [
    "# Load train data\n",
    "train_data = yaml.load(open(\"data_train/train.yaml\"))\n",
    "labels = []\n",
    "train_images = []\n",
    "\n",
    "# Cut the image looking at the boxes in the yaml\n",
    "def cut_boxes(train_data):\n",
    "    for train_datum in train_data:\n",
    "        if len(train_datum['boxes']) != 0:\n",
    "            image_path = train_datum['path']\n",
    "            image = cv2.cvtColor(cv2.imread(image_path), cv2.COLOR_RGB2BGR)\n",
    "            for box in train_datum['boxes']:\n",
    "                label = box['label']\n",
    "                x_min = int(box['x_min'])\n",
    "                x_max = int(box['x_max'])\n",
    "                y_min = int(box['y_min'])\n",
    "                y_max = int(box['y_max'])\n",
    "                if (x_max - x_min) > 10:\n",
    "                    train_image = image[y_min:y_max,x_min:x_max,:]\n",
    "                    if train_image.shape[0] != 0:\n",
    "                        try:\n",
    "                            train_image = cv2.resize(train_image,(14,32))\n",
    "                            train_images.append(train_image)\n",
    "                            labels.append(label)\n",
    "                            len(labels)\n",
    "                        except:\n",
    "                            pass                        \n",
    "cut_boxes(train_data)"
   ]
  },
  {
   "cell_type": "code",
   "execution_count": 8,
   "metadata": {},
   "outputs": [],
   "source": [
    "plt.figure()\n",
    "plt.imshow(train_images[6])\n",
    "plt.savefig(\"train_images.png\")"
   ]
  },
  {
   "cell_type": "code",
   "execution_count": 9,
   "metadata": {},
   "outputs": [],
   "source": [
    "# Load simulation data\n",
    "\n",
    "# Red \n",
    "red_path = \"data_train_sim/tl_data_red\" # Enter Directory of all images \n",
    "data_red_sim_path = os.path.join(red_path,'*g')\n",
    "\n",
    "images_sim_red = glob.glob(data_red_sim_path)\n",
    "images_sim_red.sort()\n",
    "\n",
    "# Green \n",
    "green_path = \"data_train_sim/tl_data_green\" # Enter Directory of all images \n",
    "data_green_sim_path = os.path.join(green_path,'*g')\n",
    "\n",
    "images_sim_green = glob.glob(data_green_sim_path)\n",
    "images_sim_green.sort()\n",
    "\n",
    "# Yellow \n",
    "yellow_path = \"data_train_sim/tl_data_yellow\" # Enter Directory of all images \n",
    "data_yellow_sim_path = os.path.join(yellow_path,'*g')\n",
    "\n",
    "images_sim_yellow = glob.glob(data_yellow_sim_path)\n",
    "images_sim_yellow.sort()"
   ]
  },
  {
   "cell_type": "code",
   "execution_count": 10,
   "metadata": {},
   "outputs": [
    {
     "name": "stdout",
     "output_type": "stream",
     "text": [
      "data_train_sim/tl_data_red/traffic_lights_data_red_001.jpg\n",
      "data_train_sim/tl_data_green/traffic_lights_data_green_001.jpg\n",
      "data_train_sim/tl_data_yellow/traffic_lights_data_yellow_001.jpg\n"
     ]
    }
   ],
   "source": [
    "print(images_sim_red[0])\n",
    "print(images_sim_green[0])\n",
    "print(images_sim_yellow[0])"
   ]
  },
  {
   "cell_type": "code",
   "execution_count": 11,
   "metadata": {},
   "outputs": [],
   "source": [
    "# Simulation image labeling\n",
    "labels_sim = []\n",
    "image_sim_paths = []\n",
    "\n",
    "for image in images_sim_red:\n",
    "    labels_sim.append('R')\n",
    "    image_sim_paths.append(image)\n",
    "for image in images_sim_green:\n",
    "    labels_sim.append('G')\n",
    "    image_sim_paths.append(image)\n",
    "for image in images_sim_yellow:\n",
    "    labels_sim.append('Y')\n",
    "    image_sim_paths.append(image)"
   ]
  },
  {
   "cell_type": "code",
   "execution_count": 12,
   "metadata": {},
   "outputs": [],
   "source": [
    "# # Shuffle simlation data (images and labels) \n",
    "# data_list = list(zip(labels_sim, image_sim_paths))\n",
    "# random.shuffle(data_list)\n",
    "# labels_sim, image_sim_paths = zip(*data_list)"
   ]
  },
  {
   "cell_type": "code",
   "execution_count": 13,
   "metadata": {},
   "outputs": [],
   "source": [
    "# Perform traffic light detection on simulation data\n",
    "classification_images_red = []\n",
    "test_images_red = []\n",
    "classification_images_green = []\n",
    "test_images_green = []\n",
    "classification_images_yellow = []\n",
    "test_images_yellow = []\n",
    "\n",
    "boxes_sim = []\n",
    "classes_sim = []\n",
    "scores_sim = []\n",
    "\n",
    "sim_images_box = []\n",
    "labels_sim = []\n",
    "  \n",
    "# RED CASE    \n",
    "\n",
    "# Create the list of images to be classified\n",
    "for image in images_sim_red:\n",
    "    classification_images_red.append(cv2.imread(image))\n",
    "    \n",
    "# Squeeze them in 1-D and convert them for the model     \n",
    "for img in classification_images_red:\n",
    "    img = cv2.cvtColor(img, cv2.COLOR_RGB2BGR)\n",
    "    test_images_red.append(np.expand_dims(img, axis=0))\n",
    "\n",
    "# Cut the image looking at boxes detected\n",
    "for i in range (len(images_sim_red)):\n",
    "    boxes_sim, scores_sim, classes_sim = detection(test_images_red[i])\n",
    "    for parameter in zip(boxes_sim[0], classes[0], scores_sim[0]):\n",
    "         if parameter[1] == 10 and parameter[2] >= .5:\n",
    "            box = parameter[0]\n",
    "            x_min = int(box[0] * classification_images_red[i].shape[0])\n",
    "            x_max = int(box[2] * classification_images_red[i].shape[0])\n",
    "            y_min = int(box[1] * classification_images_red[i].shape[1])\n",
    "            y_max = int(box[3] * classification_images_red[i].shape[1])\n",
    "            if (x_max - x_min) > 20:\n",
    "                image = classification_images_red[i][x_min:x_max,y_min:y_max,:]\n",
    "                if image.shape[0] != 0:\n",
    "                    try:\n",
    "                        sim_image_box = cv2.resize(image,(14,32))\n",
    "                        sim_image_box = cv2.cvtColor(sim_image_box, cv2.COLOR_BGR2RGB)\n",
    "                        sim_images_box.append(sim_image_box)\n",
    "                        labels_sim.append('R')\n",
    "                    except:\n",
    "                        pass\n",
    "                    \n",
    "# GREEN CASE    \n",
    "\n",
    "# Create the list of images to be classified\n",
    "for image in images_sim_green:\n",
    "    classification_images_green.append(cv2.imread(image))\n",
    "    \n",
    "# Squeeze them in 1-D and convert them for the model     \n",
    "for img in classification_images_green:\n",
    "    img = cv2.cvtColor(img, cv2.COLOR_RGB2BGR)\n",
    "    test_images_green.append(np.expand_dims(img, axis=0))\n",
    "\n",
    "# Cut the image looking at boxes detected\n",
    "for i in range (len(images_sim_green)):\n",
    "    boxes_sim, scores_sim, classes_sim = detection(test_images_green[i])\n",
    "    for parameter in zip(boxes_sim[0], classes_sim[0], scores_sim[0]):\n",
    "         if parameter[1] == 10 and parameter[2] >= .5:\n",
    "            box = parameter[0]\n",
    "            x_min = int(box[0] * classification_images_green[i].shape[0])\n",
    "            x_max = int(box[2] * classification_images_green[i].shape[0])\n",
    "            y_min = int(box[1] * classification_images_green[i].shape[1])\n",
    "            y_max = int(box[3] * classification_images_green[i].shape[1])\n",
    "            if (x_max - x_min) > 20:\n",
    "                image = classification_images_green[i][x_min:x_max,y_min:y_max,:]\n",
    "                if image.shape[0] != 0:\n",
    "                    try:\n",
    "                        sim_image_box = cv2.resize(image,(14,32))\n",
    "                        sim_image_box = cv2.cvtColor(sim_image_box, cv2.COLOR_BGR2RGB)\n",
    "                        sim_images_box.append(sim_image_box)\n",
    "                        labels_sim.append('G')\n",
    "                    except:\n",
    "                        pass\n",
    "                    \n",
    "# YELLOW CASE    \n",
    "\n",
    "# Create the list of images to be classified\n",
    "for image in images_sim_yellow:\n",
    "    classification_images_yellow.append(cv2.imread(image))\n",
    "    \n",
    "# Squeeze them in 1-D and convert them for the model     \n",
    "for img in classification_images_yellow:\n",
    "    img = cv2.cvtColor(img, cv2.COLOR_RGB2BGR)\n",
    "    test_images_yellow.append(np.expand_dims(img, axis=0))\n",
    "\n",
    "# Cut the image looking at boxes detected\n",
    "for i in range (len(images_sim_yellow)):\n",
    "    boxes_sim, scores_sim, classes_sim = detection(test_images_yellow[i])\n",
    "    for parameter in zip(boxes_sim[0], classes_sim[0], scores_sim[0]):\n",
    "         if parameter[1] == 10 and parameter[2] >= .5:\n",
    "            box = parameter[0]\n",
    "            x_min = int(box[0] * classification_images_yellow[i].shape[0])\n",
    "            x_max = int(box[2] * classification_images_yellow[i].shape[0])\n",
    "            y_min = int(box[1] * classification_images_yellow[i].shape[1])\n",
    "            y_max = int(box[3] * classification_images_yellow[i].shape[1])\n",
    "            if (x_max - x_min) > 20:\n",
    "                image = classification_images_yellow[i][x_min:x_max,y_min:y_max,:]\n",
    "                if image.shape[0] != 0:\n",
    "                    try:\n",
    "                        sim_image_box = cv2.resize(image,(14,32))\n",
    "                        sim_image_box = cv2.cvtColor(sim_image_box, cv2.COLOR_BGR2RGB)\n",
    "                        sim_images_box.append(sim_image_box)\n",
    "                        labels_sim.append('Y')\n",
    "                    except:\n",
    "                        pass"
   ]
  },
  {
   "cell_type": "code",
   "execution_count": 14,
   "metadata": {},
   "outputs": [
    {
     "name": "stdout",
     "output_type": "stream",
     "text": [
      "1759\n",
      "1759\n"
     ]
    }
   ],
   "source": [
    "print(len(sim_images_box))\n",
    "print(len(labels_sim))"
   ]
  },
  {
   "cell_type": "code",
   "execution_count": 15,
   "metadata": {
    "scrolled": true
   },
   "outputs": [],
   "source": [
    "# Label refactor: squeexe classes into the 4 we are interested in \n",
    "for i in range(len(labels)):\n",
    "    if labels[i] == 'Yellow':\n",
    "        labels[i] = 'Y'\n",
    "    elif labels[i] == 'Red':\n",
    "        labels[i] = 'R'\n",
    "    elif labels[i] == 'RedLeft':\n",
    "        labels[i] = 'R'\n",
    "    elif labels[i] == 'RedRight':\n",
    "        labels[i] = 'R'\n",
    "    elif labels[i] == 'Green':\n",
    "        labels[i] = 'G'\n",
    "    elif labels[i] == 'GreenLeft':\n",
    "        labels[i] = 'G'\n",
    "    elif labels[i] == 'GreenRight':\n",
    "        labels[i] = 'G'\n",
    "    else:\n",
    "        labels[i] = 'O'"
   ]
  },
  {
   "cell_type": "code",
   "execution_count": 16,
   "metadata": {},
   "outputs": [],
   "source": [
    "# Creating a Dictionary with dict() method \n",
    "label_dict = dict({'R' : 0, 'Y' : 1, 'G' : 2, 'O' : 3}) \n",
    "\n",
    "# Train lists\n",
    "x_real = []\n",
    "y_real = []\n",
    "\n",
    "# Use dict to store labels\n",
    "y_real = [label_dict[i] for i in labels]"
   ]
  },
  {
   "cell_type": "code",
   "execution_count": 17,
   "metadata": {},
   "outputs": [],
   "source": [
    "# Transform them for the model\n",
    "x_real = np.array(train_images)\n",
    "y_real = np.array(y_real)"
   ]
  },
  {
   "cell_type": "code",
   "execution_count": 18,
   "metadata": {
    "scrolled": false
   },
   "outputs": [
    {
     "name": "stdout",
     "output_type": "stream",
     "text": [
      "WARNING:tensorflow:From /root/miniconda3/envs/carnd-term1/lib/python3.5/site-packages/keras/backend/tensorflow_backend.py:63: The name tf.get_default_graph is deprecated. Please use tf.compat.v1.get_default_graph instead.\n",
      "\n",
      "WARNING:tensorflow:From /root/miniconda3/envs/carnd-term1/lib/python3.5/site-packages/keras/backend/tensorflow_backend.py:488: The name tf.placeholder is deprecated. Please use tf.compat.v1.placeholder instead.\n",
      "\n",
      "WARNING:tensorflow:From /root/miniconda3/envs/carnd-term1/lib/python3.5/site-packages/keras/backend/tensorflow_backend.py:3626: The name tf.random_uniform is deprecated. Please use tf.random.uniform instead.\n",
      "\n",
      "WARNING:tensorflow:From /root/miniconda3/envs/carnd-term1/lib/python3.5/site-packages/keras/backend/tensorflow_backend.py:2990: calling dropout (from tensorflow.python.ops.nn_ops) with keep_prob is deprecated and will be removed in a future version.\n",
      "Instructions for updating:\n",
      "Please use `rate` instead of `keep_prob`. Rate should be set to `rate = 1 - keep_prob`.\n",
      "WARNING:tensorflow:From /root/miniconda3/envs/carnd-term1/lib/python3.5/site-packages/keras/backend/tensorflow_backend.py:1255: calling reduce_prod_v1 (from tensorflow.python.ops.math_ops) with keep_dims is deprecated and will be removed in a future version.\n",
      "Instructions for updating:\n",
      "keep_dims is deprecated, use keepdims instead\n",
      "_________________________________________________________________\n",
      "Layer (type)                 Output Shape              Param #   \n",
      "=================================================================\n",
      "lambda_1 (Lambda)            (None, 32, 14, 3)         0         \n",
      "_________________________________________________________________\n",
      "conv2d_1 (Conv2D)            (None, 30, 12, 8)         224       \n",
      "_________________________________________________________________\n",
      "dropout_1 (Dropout)          (None, 30, 12, 8)         0         \n",
      "_________________________________________________________________\n",
      "conv2d_2 (Conv2D)            (None, 28, 10, 16)        1168      \n",
      "_________________________________________________________________\n",
      "dropout_2 (Dropout)          (None, 28, 10, 16)        0         \n",
      "_________________________________________________________________\n",
      "conv2d_3 (Conv2D)            (None, 26, 8, 32)         4640      \n",
      "_________________________________________________________________\n",
      "dropout_3 (Dropout)          (None, 26, 8, 32)         0         \n",
      "_________________________________________________________________\n",
      "conv2d_4 (Conv2D)            (None, 24, 6, 64)         18496     \n",
      "_________________________________________________________________\n",
      "dropout_4 (Dropout)          (None, 24, 6, 64)         0         \n",
      "_________________________________________________________________\n",
      "flatten_1 (Flatten)          (None, 9216)              0         \n",
      "_________________________________________________________________\n",
      "dense_1 (Dense)              (None, 100)               921700    \n",
      "_________________________________________________________________\n",
      "dense_2 (Dense)              (None, 20)                2020      \n",
      "_________________________________________________________________\n",
      "dense_3 (Dense)              (None, 4)                 84        \n",
      "=================================================================\n",
      "Total params: 948,332\n",
      "Trainable params: 948,332\n",
      "Non-trainable params: 0\n",
      "_________________________________________________________________\n",
      "None\n",
      "WARNING:tensorflow:From /root/miniconda3/envs/carnd-term1/lib/python3.5/site-packages/keras/optimizers.py:711: The name tf.train.Optimizer is deprecated. Please use tf.compat.v1.train.Optimizer instead.\n",
      "\n",
      "WARNING:tensorflow:From /root/miniconda3/envs/carnd-term1/lib/python3.5/site-packages/keras/backend/tensorflow_backend.py:2887: The name tf.log is deprecated. Please use tf.math.log instead.\n",
      "\n",
      "WARNING:tensorflow:From /root/miniconda3/envs/carnd-term1/lib/python3.5/site-packages/keras/backend/tensorflow_backend.py:1204: calling reduce_max_v1 (from tensorflow.python.ops.math_ops) with keep_dims is deprecated and will be removed in a future version.\n",
      "Instructions for updating:\n",
      "keep_dims is deprecated, use keepdims instead\n",
      "WARNING:tensorflow:From /root/miniconda3/envs/carnd-term1/lib/python3.5/site-packages/tensorflow/python/ops/math_grad.py:1250: add_dispatch_support.<locals>.wrapper (from tensorflow.python.ops.array_ops) is deprecated and will be removed in a future version.\n",
      "Instructions for updating:\n",
      "Use tf.where in 2.0, which has the same broadcast rule as np.where\n"
     ]
    },
    {
     "name": "stderr",
     "output_type": "stream",
     "text": [
      "/root/miniconda3/envs/carnd-term1/lib/python3.5/site-packages/keras/models.py:874: UserWarning: The `nb_epoch` argument in `fit` has been renamed `epochs`.\n",
      "  warnings.warn('The `nb_epoch` argument in `fit` '\n"
     ]
    },
    {
     "name": "stdout",
     "output_type": "stream",
     "text": [
      "WARNING:tensorflow:From /root/miniconda3/envs/carnd-term1/lib/python3.5/site-packages/keras/backend/tensorflow_backend.py:949: The name tf.assign_add is deprecated. Please use tf.compat.v1.assign_add instead.\n",
      "\n",
      "WARNING:tensorflow:From /root/miniconda3/envs/carnd-term1/lib/python3.5/site-packages/keras/backend/tensorflow_backend.py:671: calling Constant.__init__ (from tensorflow.python.ops.init_ops) with dtype is deprecated and will be removed in a future version.\n",
      "Instructions for updating:\n",
      "Call initializer instance with the dtype argument instead of passing it to the constructor\n",
      "Train on 3244 samples, validate on 812 samples\n",
      "Epoch 1/16\n",
      "3244/3244 [==============================] - 4s 1ms/step - loss: 0.4798 - acc: 0.8351 - val_loss: 0.4138 - val_acc: 0.9544\n",
      "Epoch 2/16\n",
      "3244/3244 [==============================] - 3s 952us/step - loss: 0.2488 - acc: 0.9140 - val_loss: 0.2232 - val_acc: 0.9323\n",
      "Epoch 3/16\n",
      "3244/3244 [==============================] - 3s 909us/step - loss: 0.2002 - acc: 0.9340 - val_loss: 0.1391 - val_acc: 0.9594\n",
      "Epoch 4/16\n",
      "3244/3244 [==============================] - 3s 908us/step - loss: 0.1927 - acc: 0.9353 - val_loss: 0.1589 - val_acc: 0.9606\n",
      "Epoch 5/16\n",
      "3244/3244 [==============================] - 3s 909us/step - loss: 0.1632 - acc: 0.9442 - val_loss: 0.1294 - val_acc: 0.9704\n",
      "Epoch 6/16\n",
      "3244/3244 [==============================] - 3s 911us/step - loss: 0.1698 - acc: 0.9461 - val_loss: 0.1239 - val_acc: 0.9754\n",
      "Epoch 7/16\n",
      "3244/3244 [==============================] - 3s 916us/step - loss: 0.1525 - acc: 0.9498 - val_loss: 0.1085 - val_acc: 0.9803\n",
      "Epoch 8/16\n",
      "3244/3244 [==============================] - 3s 914us/step - loss: 0.1468 - acc: 0.9538 - val_loss: 0.0957 - val_acc: 0.9791\n",
      "Epoch 9/16\n",
      "3244/3244 [==============================] - 3s 937us/step - loss: 0.1334 - acc: 0.9544 - val_loss: 0.1051 - val_acc: 0.9741\n",
      "Epoch 10/16\n",
      "3244/3244 [==============================] - 3s 948us/step - loss: 0.1284 - acc: 0.9565 - val_loss: 0.1121 - val_acc: 0.9729\n",
      "Epoch 11/16\n",
      "3244/3244 [==============================] - 3s 964us/step - loss: 0.1252 - acc: 0.9581 - val_loss: 0.0864 - val_acc: 0.9778\n",
      "Epoch 12/16\n",
      "3244/3244 [==============================] - 3s 950us/step - loss: 0.1204 - acc: 0.9624 - val_loss: 0.0966 - val_acc: 0.9803\n",
      "Epoch 13/16\n",
      "3244/3244 [==============================] - 3s 957us/step - loss: 0.1229 - acc: 0.9618 - val_loss: 0.1053 - val_acc: 0.9717\n",
      "Epoch 14/16\n",
      "3244/3244 [==============================] - 3s 941us/step - loss: 0.1214 - acc: 0.9599 - val_loss: 0.1006 - val_acc: 0.9778\n",
      "Epoch 15/16\n",
      "3244/3244 [==============================] - 3s 924us/step - loss: 0.1087 - acc: 0.9636 - val_loss: 0.0889 - val_acc: 0.9828\n",
      "Epoch 16/16\n",
      "3244/3244 [==============================] - 3s 954us/step - loss: 0.1169 - acc: 0.9655 - val_loss: 0.0901 - val_acc: 0.9791\n"
     ]
    }
   ],
   "source": [
    "# Train with real data\n",
    "\n",
    "model = Sequential()\n",
    "model.add(Lambda(lambda x: (x / 255.0) - 0.5, input_shape=(32,14,3)))\n",
    "model.add(Conv2D(filters=8, kernel_size=(3, 3), strides=(1, 1),activation='relu'))\n",
    "model.add(Dropout(0.5))\n",
    "model.add(Conv2D(filters=16, kernel_size=(3, 3),strides=(1, 1), activation='relu'))\n",
    "model.add(Dropout(0.5))\n",
    "model.add(Conv2D(filters=32, kernel_size=(3, 3), strides=(1, 1),activation='relu'))\n",
    "model.add(Dropout(0.5))\n",
    "model.add(Conv2D(filters=64, kernel_size=(3, 3) ,activation='relu'))\n",
    "model.add(Dropout(0.5))\n",
    "model.add(Flatten())\n",
    "model.add(Dense(units=100, activation='relu'))\n",
    "model.add(Dense(units=20, activation='relu'))\n",
    "model.add(Dense(units=4, activation='softmax'))\n",
    "print(model.summary())\n",
    "\n",
    "\n",
    "model.compile(optimizer='adam', loss='sparse_categorical_crossentropy', metrics=['accuracy'])\n",
    "model.fit(x_real,y_real,validation_split=0.2,shuffle=True,nb_epoch=16)\n",
    "model.save('model_real.h5')\n"
   ]
  },
  {
   "cell_type": "code",
   "execution_count": 19,
   "metadata": {},
   "outputs": [],
   "source": [
    "x_sim = []\n",
    "y_sim = []\n",
    "\n",
    "# Use dict to store labels\n",
    "y_sim= [label_dict[i] for i in labels_sim]\n",
    "\n",
    "# Transform them for the model\n",
    "x_sim = np.array(sim_images_box)\n",
    "y_sim = np.array(y_sim)"
   ]
  },
  {
   "cell_type": "code",
   "execution_count": 20,
   "metadata": {
    "scrolled": true
   },
   "outputs": [
    {
     "name": "stdout",
     "output_type": "stream",
     "text": [
      "\n",
      "# Evaluate on test data\n",
      "1759/1759 [==============================] - 0s 106us/step\n",
      "test loss, test acc: [0.23185619453497933, 0.9528140989198408]\n"
     ]
    }
   ],
   "source": [
    "# Evaluate the model on the test data using `evaluate`\n",
    "print('\\n# Evaluate on test data')\n",
    "results = model.evaluate(x_sim, y_sim, batch_size=128)\n",
    "print('test loss, test acc:', results)"
   ]
  },
  {
   "cell_type": "code",
   "execution_count": 21,
   "metadata": {},
   "outputs": [
    {
     "name": "stdout",
     "output_type": "stream",
     "text": [
      "_________________________________________________________________\n",
      "Layer (type)                 Output Shape              Param #   \n",
      "=================================================================\n",
      "lambda_2 (Lambda)            (None, 32, 14, 3)         0         \n",
      "_________________________________________________________________\n",
      "conv2d_5 (Conv2D)            (None, 30, 12, 8)         224       \n",
      "_________________________________________________________________\n",
      "dropout_5 (Dropout)          (None, 30, 12, 8)         0         \n",
      "_________________________________________________________________\n",
      "conv2d_6 (Conv2D)            (None, 28, 10, 16)        1168      \n",
      "_________________________________________________________________\n",
      "dropout_6 (Dropout)          (None, 28, 10, 16)        0         \n",
      "_________________________________________________________________\n",
      "conv2d_7 (Conv2D)            (None, 26, 8, 32)         4640      \n",
      "_________________________________________________________________\n",
      "dropout_7 (Dropout)          (None, 26, 8, 32)         0         \n",
      "_________________________________________________________________\n",
      "conv2d_8 (Conv2D)            (None, 24, 6, 64)         18496     \n",
      "_________________________________________________________________\n",
      "dropout_8 (Dropout)          (None, 24, 6, 64)         0         \n",
      "_________________________________________________________________\n",
      "flatten_2 (Flatten)          (None, 9216)              0         \n",
      "_________________________________________________________________\n",
      "dense_4 (Dense)              (None, 100)               921700    \n",
      "_________________________________________________________________\n",
      "dense_5 (Dense)              (None, 20)                2020      \n",
      "_________________________________________________________________\n",
      "dense_6 (Dense)              (None, 4)                 84        \n",
      "=================================================================\n",
      "Total params: 948,332\n",
      "Trainable params: 948,332\n",
      "Non-trainable params: 0\n",
      "_________________________________________________________________\n",
      "None\n"
     ]
    },
    {
     "name": "stderr",
     "output_type": "stream",
     "text": [
      "/root/miniconda3/envs/carnd-term1/lib/python3.5/site-packages/keras/models.py:874: UserWarning: The `nb_epoch` argument in `fit` has been renamed `epochs`.\n",
      "  warnings.warn('The `nb_epoch` argument in `fit` '\n"
     ]
    },
    {
     "name": "stdout",
     "output_type": "stream",
     "text": [
      "Train on 1407 samples, validate on 352 samples\n",
      "Epoch 1/16\n",
      "1407/1407 [==============================] - 2s 1ms/step - loss: 0.3656 - acc: 0.8536 - val_loss: 0.0488 - val_acc: 1.0000\n",
      "Epoch 2/16\n",
      "1407/1407 [==============================] - 1s 920us/step - loss: 0.0517 - acc: 0.9709 - val_loss: 0.0319 - val_acc: 1.0000\n",
      "Epoch 3/16\n",
      "1407/1407 [==============================] - 1s 928us/step - loss: 0.0311 - acc: 0.9893 - val_loss: 0.0031 - val_acc: 1.0000\n",
      "Epoch 4/16\n",
      "1407/1407 [==============================] - 1s 962us/step - loss: 0.0178 - acc: 0.9922 - val_loss: 8.8335e-05 - val_acc: 1.0000\n",
      "Epoch 5/16\n",
      "1407/1407 [==============================] - 1s 1ms/step - loss: 0.0207 - acc: 0.9936 - val_loss: 7.3699e-05 - val_acc: 1.0000\n",
      "Epoch 6/16\n",
      "1407/1407 [==============================] - 1s 915us/step - loss: 0.0207 - acc: 0.9915 - val_loss: 3.5898e-04 - val_acc: 1.0000\n",
      "Epoch 7/16\n",
      "1407/1407 [==============================] - 1s 931us/step - loss: 0.0103 - acc: 0.9972 - val_loss: 2.8002e-05 - val_acc: 1.0000\n",
      "Epoch 8/16\n",
      "1407/1407 [==============================] - 1s 932us/step - loss: 0.0102 - acc: 0.9964 - val_loss: 2.3613e-05 - val_acc: 1.0000\n",
      "Epoch 9/16\n",
      "1407/1407 [==============================] - 1s 912us/step - loss: 0.0130 - acc: 0.9943 - val_loss: 2.0641e-05 - val_acc: 1.0000\n",
      "Epoch 10/16\n",
      "1407/1407 [==============================] - 1s 911us/step - loss: 0.0090 - acc: 0.9972 - val_loss: 4.3484e-05 - val_acc: 1.0000\n",
      "Epoch 11/16\n",
      "1407/1407 [==============================] - 1s 935us/step - loss: 0.0106 - acc: 0.9964 - val_loss: 1.5432e-05 - val_acc: 1.0000\n",
      "Epoch 12/16\n",
      "1407/1407 [==============================] - 1s 961us/step - loss: 0.0121 - acc: 0.9957 - val_loss: 2.3672e-05 - val_acc: 1.0000\n",
      "Epoch 13/16\n",
      "1407/1407 [==============================] - 1s 931us/step - loss: 0.0390 - acc: 0.9915 - val_loss: 0.6145 - val_acc: 0.9205\n",
      "Epoch 14/16\n",
      "1407/1407 [==============================] - 1s 914us/step - loss: 0.0413 - acc: 0.9886 - val_loss: 3.5898e-07 - val_acc: 1.0000\n",
      "Epoch 15/16\n",
      "1407/1407 [==============================] - 1s 918us/step - loss: 0.0158 - acc: 0.9936 - val_loss: 3.5763e-07 - val_acc: 1.0000\n",
      "Epoch 16/16\n",
      "1407/1407 [==============================] - 1s 905us/step - loss: 0.0091 - acc: 0.9972 - val_loss: 3.5763e-07 - val_acc: 1.0000\n"
     ]
    }
   ],
   "source": [
    "# Train with simulation data\n",
    "\n",
    "model = Sequential()\n",
    "model.add(Lambda(lambda x: (x / 255.0) - 0.5, input_shape=(32,14,3)))\n",
    "model.add(Conv2D(filters=8, kernel_size=(3, 3), strides=(1, 1),activation='relu'))\n",
    "model.add(Dropout(0.5))\n",
    "model.add(Conv2D(filters=16, kernel_size=(3, 3),strides=(1, 1), activation='relu'))\n",
    "model.add(Dropout(0.5))\n",
    "model.add(Conv2D(filters=32, kernel_size=(3, 3), strides=(1, 1),activation='relu'))\n",
    "model.add(Dropout(0.5))\n",
    "model.add(Conv2D(filters=64, kernel_size=(3, 3) ,activation='relu'))\n",
    "model.add(Dropout(0.5))\n",
    "model.add(Flatten())\n",
    "model.add(Dense(units=100, activation='relu'))\n",
    "model.add(Dense(units=20, activation='relu'))\n",
    "model.add(Dense(units=4, activation='softmax'))\n",
    "print(model.summary())\n",
    "\n",
    "\n",
    "model.compile(optimizer='adam', loss='sparse_categorical_crossentropy', metrics=['accuracy'])\n",
    "model.fit(x_sim,y_sim,validation_split=0.2,shuffle=True,nb_epoch=16)\n",
    "model.save('model_sim.h5')\n"
   ]
  },
  {
   "cell_type": "code",
   "execution_count": 22,
   "metadata": {},
   "outputs": [
    {
     "name": "stdout",
     "output_type": "stream",
     "text": [
      "\n",
      "# Evaluate on test data\n",
      "4056/4056 [==============================] - 0s 96us/step\n",
      "test loss, test acc: [2.1387523859445396, 0.7169625248899592]\n"
     ]
    }
   ],
   "source": [
    "# Evaluate the model on the test data using `evaluate`\n",
    "print('\\n# Evaluate on test data')\n",
    "results = model.evaluate(x_real, y_real, batch_size=128)\n",
    "print('test loss, test acc:', results)"
   ]
  },
  {
   "cell_type": "code",
   "execution_count": 32,
   "metadata": {},
   "outputs": [
    {
     "name": "stdout",
     "output_type": "stream",
     "text": [
      "(4652, 32, 14, 3) (4652,)\n",
      "(1163, 32, 14, 3) (1163,)\n"
     ]
    }
   ],
   "source": [
    "# Create miscellaneous data set\n",
    "x_data_set = []\n",
    "y_data_set = []\n",
    "\n",
    "x_data_set = np.concatenate((x_real, x_sim))\n",
    "y_data_set = np.concatenate((y_real, y_sim))\n",
    "\n",
    "x_data_set, y_data_set = shuffle(x_data_set, y_data_set)\n",
    "\n",
    "x_train = []\n",
    "y_train = []\n",
    "\n",
    "x_test = []\n",
    "y_test = []\n",
    "\n",
    "# Create training and testing vars\n",
    "x_train, x_test, y_train, y_test = train_test_split(x_data_set, y_data_set, test_size=0.2)"
   ]
  },
  {
   "cell_type": "code",
   "execution_count": 34,
   "metadata": {},
   "outputs": [
    {
     "name": "stdout",
     "output_type": "stream",
     "text": [
      "_________________________________________________________________\n",
      "Layer (type)                 Output Shape              Param #   \n",
      "=================================================================\n",
      "lambda_4 (Lambda)            (None, 32, 14, 3)         0         \n",
      "_________________________________________________________________\n",
      "conv2d_13 (Conv2D)           (None, 30, 12, 8)         224       \n",
      "_________________________________________________________________\n",
      "dropout_13 (Dropout)         (None, 30, 12, 8)         0         \n",
      "_________________________________________________________________\n",
      "conv2d_14 (Conv2D)           (None, 28, 10, 16)        1168      \n",
      "_________________________________________________________________\n",
      "dropout_14 (Dropout)         (None, 28, 10, 16)        0         \n",
      "_________________________________________________________________\n",
      "conv2d_15 (Conv2D)           (None, 26, 8, 32)         4640      \n",
      "_________________________________________________________________\n",
      "dropout_15 (Dropout)         (None, 26, 8, 32)         0         \n",
      "_________________________________________________________________\n",
      "conv2d_16 (Conv2D)           (None, 24, 6, 64)         18496     \n",
      "_________________________________________________________________\n",
      "dropout_16 (Dropout)         (None, 24, 6, 64)         0         \n",
      "_________________________________________________________________\n",
      "flatten_4 (Flatten)          (None, 9216)              0         \n",
      "_________________________________________________________________\n",
      "dense_10 (Dense)             (None, 100)               921700    \n",
      "_________________________________________________________________\n",
      "dense_11 (Dense)             (None, 20)                2020      \n",
      "_________________________________________________________________\n",
      "dense_12 (Dense)             (None, 4)                 84        \n",
      "=================================================================\n",
      "Total params: 948,332\n",
      "Trainable params: 948,332\n",
      "Non-trainable params: 0\n",
      "_________________________________________________________________\n",
      "None\n"
     ]
    },
    {
     "name": "stderr",
     "output_type": "stream",
     "text": [
      "/root/miniconda3/envs/carnd-term1/lib/python3.5/site-packages/keras/models.py:874: UserWarning: The `nb_epoch` argument in `fit` has been renamed `epochs`.\n",
      "  warnings.warn('The `nb_epoch` argument in `fit` '\n"
     ]
    },
    {
     "name": "stdout",
     "output_type": "stream",
     "text": [
      "Train on 3721 samples, validate on 931 samples\n",
      "Epoch 1/16\n",
      "3721/3721 [==============================] - 4s 1ms/step - loss: 0.5053 - acc: 0.8162 - val_loss: 0.2649 - val_acc: 0.9313\n",
      "Epoch 2/16\n",
      "3721/3721 [==============================] - 4s 948us/step - loss: 0.2045 - acc: 0.9282 - val_loss: 0.1377 - val_acc: 0.9517\n",
      "Epoch 3/16\n",
      "3721/3721 [==============================] - 4s 943us/step - loss: 0.1668 - acc: 0.9430 - val_loss: 0.1262 - val_acc: 0.9581\n",
      "Epoch 4/16\n",
      "3721/3721 [==============================] - 4s 944us/step - loss: 0.1561 - acc: 0.9452 - val_loss: 0.1255 - val_acc: 0.9613\n",
      "Epoch 5/16\n",
      "3721/3721 [==============================] - 4s 947us/step - loss: 0.1523 - acc: 0.9535 - val_loss: 0.1221 - val_acc: 0.9656\n",
      "Epoch 6/16\n",
      "3721/3721 [==============================] - 4s 985us/step - loss: 0.1301 - acc: 0.9540 - val_loss: 0.1079 - val_acc: 0.9667\n",
      "Epoch 7/16\n",
      "3721/3721 [==============================] - 4s 977us/step - loss: 0.1203 - acc: 0.9605 - val_loss: 0.1480 - val_acc: 0.9603\n",
      "Epoch 8/16\n",
      "3721/3721 [==============================] - 4s 979us/step - loss: 0.1113 - acc: 0.9656 - val_loss: 0.0922 - val_acc: 0.9699\n",
      "Epoch 9/16\n",
      "3721/3721 [==============================] - 4s 968us/step - loss: 0.1005 - acc: 0.9710 - val_loss: 0.0877 - val_acc: 0.9699\n",
      "Epoch 10/16\n",
      "3721/3721 [==============================] - 4s 980us/step - loss: 0.1138 - acc: 0.9667 - val_loss: 0.0906 - val_acc: 0.9710\n",
      "Epoch 11/16\n",
      "3721/3721 [==============================] - 4s 968us/step - loss: 0.0939 - acc: 0.9734 - val_loss: 0.0889 - val_acc: 0.9667\n",
      "Epoch 12/16\n",
      "3721/3721 [==============================] - 4s 983us/step - loss: 0.0969 - acc: 0.9721 - val_loss: 0.0754 - val_acc: 0.9742\n",
      "Epoch 13/16\n",
      "3721/3721 [==============================] - 4s 994us/step - loss: 0.0844 - acc: 0.9745 - val_loss: 0.0889 - val_acc: 0.9721\n",
      "Epoch 14/16\n",
      "3721/3721 [==============================] - 4s 984us/step - loss: 0.0907 - acc: 0.9742 - val_loss: 0.0698 - val_acc: 0.9785\n",
      "Epoch 15/16\n",
      "3721/3721 [==============================] - 4s 963us/step - loss: 0.0751 - acc: 0.9769 - val_loss: 0.0748 - val_acc: 0.9785\n",
      "Epoch 16/16\n",
      "3721/3721 [==============================] - 4s 973us/step - loss: 0.0817 - acc: 0.9769 - val_loss: 0.0743 - val_acc: 0.9753\n"
     ]
    }
   ],
   "source": [
    "# Train with miscellaneous data\n",
    "\n",
    "model = Sequential()\n",
    "model.add(Lambda(lambda x: (x / 255.0) - 0.5, input_shape=(32,14,3)))\n",
    "model.add(Conv2D(filters=8, kernel_size=(3, 3), strides=(1, 1),activation='relu'))\n",
    "model.add(Dropout(0.5))\n",
    "model.add(Conv2D(filters=16, kernel_size=(3, 3),strides=(1, 1), activation='relu'))\n",
    "model.add(Dropout(0.5))\n",
    "model.add(Conv2D(filters=32, kernel_size=(3, 3), strides=(1, 1),activation='relu'))\n",
    "model.add(Dropout(0.5))\n",
    "model.add(Conv2D(filters=64, kernel_size=(3, 3) ,activation='relu'))\n",
    "model.add(Dropout(0.5))\n",
    "model.add(Flatten())\n",
    "model.add(Dense(units=100, activation='relu'))\n",
    "model.add(Dense(units=20, activation='relu'))\n",
    "model.add(Dense(units=4, activation='softmax'))\n",
    "print(model.summary())\n",
    "\n",
    "\n",
    "model.compile(optimizer='adam', loss='sparse_categorical_crossentropy', metrics=['accuracy'])\n",
    "model.fit(x_train,y_train,validation_split=0.2,shuffle=True,nb_epoch=16)\n",
    "model.save('model.h5')"
   ]
  },
  {
   "cell_type": "code",
   "execution_count": 35,
   "metadata": {},
   "outputs": [
    {
     "name": "stdout",
     "output_type": "stream",
     "text": [
      "\n",
      "# Evaluate on test data\n",
      "1163/1163 [==============================] - 0s 106us/step\n",
      "test loss, test acc: [0.09530462987355805, 0.9699054170249355]\n"
     ]
    }
   ],
   "source": [
    "# Evaluate the model on the test data using `evaluate`\n",
    "print('\\n# Evaluate on test data')\n",
    "results = model.evaluate(x_test, y_test, batch_size=128)\n",
    "print('test loss, test acc:', results)"
   ]
  }
 ],
 "metadata": {
  "anaconda-cloud": {},
  "kernelspec": {
   "display_name": "Python 3",
   "language": "python",
   "name": "python3"
  },
  "language_info": {
   "codemirror_mode": {
    "name": "ipython",
    "version": 3
   },
   "file_extension": ".py",
   "mimetype": "text/x-python",
   "name": "python",
   "nbconvert_exporter": "python",
   "pygments_lexer": "ipython3",
   "version": "3.5.2"
  },
  "widgets": {
   "state": {},
   "version": "1.1.2"
  }
 },
 "nbformat": 4,
 "nbformat_minor": 1
}
